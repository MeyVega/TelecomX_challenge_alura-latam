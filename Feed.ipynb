{
 "cells": [
  {
   "cell_type": "code",
   "execution_count": null,
   "id": "dc40bfc0",
   "metadata": {
    "vscode": {
     "languageId": "plaintext"
    }
   },
   "outputs": [],
   "source": [
    "import matplotlib.pyplot as plt\n",
    "\n",
    "df_panini = df[df['producto'] == 'Panini']\n",
    "df_panini['fecha'] = pd.to_datetime(df_panini['fecha'], format='%Y-%m-%d')\n",
    "ventas_por_mes = df_panini.groupby(df_panini['fecha'].dt.to_period('M'))['valor'].sum()\n",
    "plt.figure(figsize=(10, 6))\n",
    "plt.plot(ventas_por_mes.index.to_timestamp(), ventas_por_mes, marker='o', linestyle='-')\n",
    "plt.title('Ventas mensuales de Panini')\n",
    "plt.xlabel('Mes')\n",
    "plt.ylabel('Total de ventas')\n",
    "plt.xticks(ventas_por_mes.index.to_timestamp(), [x.strftime('%b %Y') for x in ventas_por_mes.index.to_timestamp()], rotation=45)\n",
    "plt.grid(True)\n",
    "plt.tight_layout()\n",
    "plt.show()\n",
    "\n",
    "import pandas as pd\n",
    "import matplotlib.pyplot as plt\n",
    "\n",
    "df['facturacion'] = (df['precio_unitario'] * df['cantidad']) + df['envio']\n",
    "df['trimestre'] = df['fecha'].dt.to_period('Q')\n",
    "# Suponiendo que ya tienes el DataFrame df\n",
    "# Filtrar las categorías deseadas\n",
    "categorias_deseadas = [\"Papelería y oficina\", \"Libros\", \"Alimentos y bebidas\"]\n",
    "df_filtrado = df[df['categoria'].isin(categorias_deseadas)]\n",
    "# Pivotar los datos para tener los trimestres como índice y las categorías como columnas\n",
    "pivot_df = df_filtrado.pivot_table(index='trimestre', columns='categoria', values='facturacion', aggfunc='sum')\n",
    "# Crear el gráfico de columnas agrupadas\n",
    "pivot_df.plot(kind='bar', stacked=False, figsize=(10, 6))\n",
    "# Agregar etiquetas y título\n",
    "plt.xlabel('Trimestre')\n",
    "plt.ylabel('Ventas')\n",
    "plt.title('Ventas por Trimestre y Categoría')\n",
    "plt.xticks(rotation=45)  # Rotar las etiquetas del eje x para mejorar la legibilidad\n",
    "# Mostrar el gráfico\n",
    "plt.legend(title='Categoría')\n",
    "plt.tight_layout()\n",
    "plt.show()\n",
    "\n"
   ]
  }
 ],
 "metadata": {
  "language_info": {
   "name": "python"
  }
 },
 "nbformat": 4,
 "nbformat_minor": 5
}
